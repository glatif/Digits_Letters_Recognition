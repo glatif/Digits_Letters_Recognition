{
  "nbformat": 4,
  "nbformat_minor": 0,
  "metadata": {
    "kernelspec": {
      "name": "python3",
      "display_name": "Python 3"
    },
    "language_info": {
      "codemirror_mode": {
        "name": "ipython",
        "version": 3
      },
      "file_extension": ".py",
      "mimetype": "text/x-python",
      "name": "python",
      "nbconvert_exporter": "python",
      "pygments_lexer": "ipython3",
      "version": "3.7.6"
    },
    "colab": {
      "name": "[wandb.ai]_Digits&Letters_Recognition_Test_on_OwnData.ipynb",
      "provenance": [],
      "collapsed_sections": []
    },
    "accelerator": "GPU"
  },
  "cells": [
    {
      "cell_type": "markdown",
      "metadata": {
        "Collapsed": "false",
        "id": "OfjyqHitUGNW"
      },
      "source": [
        "# EMNIST Letters *Recognition* (0-9, A-Z and Space ~)"
      ]
    },
    {
      "cell_type": "markdown",
      "metadata": {
        "Collapsed": "false",
        "id": "d9vIxyRTUGNd"
      },
      "source": [
        "# 0. Load packages and co."
      ]
    },
    {
      "cell_type": "code",
      "metadata": {
        "Collapsed": "false",
        "id": "LlGRCXcAUGNi"
      },
      "source": [
        "import numpy as np\n",
        "import pandas as pd\n",
        "\n",
        "import csv\n",
        "import tensorflow as tf\n",
        "import matplotlib.pyplot as plt\n",
        "import time\n",
        "import random\n",
        "import os\n",
        "import datetime\n",
        "\n",
        "from tensorflow import keras\n",
        "from keras import models\n",
        "from keras import layers\n",
        "from keras.optimizers import RMSprop\n",
        "\n",
        "\n",
        "import matplotlib.pyplot as plt\n",
        "%matplotlib inline"
      ],
      "execution_count": null,
      "outputs": []
    },
    {
      "cell_type": "code",
      "metadata": {
        "Collapsed": "false",
        "id": "E9Z6e74KUGN1"
      },
      "source": [
        "def img_show(img,colorbar=False):\n",
        "    plt.figure(figsize=(10,8))\n",
        "    plt.imshow(img,cmap='Greys_r')\n",
        "    if colorbar:\n",
        "        plt.colorbar()\n",
        "    plt.show()"
      ],
      "execution_count": null,
      "outputs": []
    },
    {
      "cell_type": "markdown",
      "metadata": {
        "Collapsed": "false",
        "id": "E3KZkxWSUGOC"
      },
      "source": [
        "# 1. Load EMNIST balanced dataset\n",
        "Introduced by https://arxiv.org/abs/1702.05373v1 downloaded from https://www.nist.gov/itl/iad/image-group/emnist-dataset "
      ]
    },
    {
      "cell_type": "markdown",
      "metadata": {
        "Collapsed": "false",
        "id": "aUthRryyUGOG"
      },
      "source": [
        "## 1.1. Load the data"
      ]
    },
    {
      "cell_type": "code",
      "metadata": {
        "id": "6MyDdta_UO92",
        "colab": {
          "base_uri": "https://localhost:8080/"
        },
        "outputId": "4158287e-7846-433c-c74f-41e14b183bc6"
      },
      "source": [
        "# Mount Google Drive\n",
        "from google.colab import drive\n",
        "drive.mount('/content/drive')\n",
        "\n",
        "# Current DataSet Path\n",
        "PATH = '/content/drive/MyDrive/upwork/11_alphabet_recognition'\n",
        "%cd /content/drive/MyDrive/upwork/11_alphabet_recognition/"
      ],
      "execution_count": null,
      "outputs": [
        {
          "output_type": "stream",
          "text": [
            "Mounted at /content/drive\n",
            "/content/drive/MyDrive/upwork/11_alphabet_recognition\n"
          ],
          "name": "stdout"
        }
      ]
    },
    {
      "cell_type": "markdown",
      "metadata": {
        "Collapsed": "false",
        "_uuid": "c722ff53d6ce9d3efd795d0b27622d6f2731cca8",
        "id": "v83LOsujUGOL"
      },
      "source": [
        "Firstly, we need to load our data, notice that there is no column names in csv files and thus header should be set to `None`."
      ]
    },
    {
      "cell_type": "markdown",
      "metadata": {
        "Collapsed": "false",
        "id": "Bhs4ER4WUGOp"
      },
      "source": [
        "1 column for the label and then 28x28=784 columns for the pixels of the 28x28 images"
      ]
    },
    {
      "cell_type": "markdown",
      "metadata": {
        "Collapsed": "false",
        "id": "iYqvYEWmUGVY"
      },
      "source": [
        "## 2.3. Evaluate model"
      ]
    },
    {
      "cell_type": "code",
      "metadata": {
        "id": "a9Hy3H08sDKw",
        "colab": {
          "base_uri": "https://localhost:8080/"
        },
        "outputId": "3da604da-4169-4992-c52a-1bf4cc3f149e"
      },
      "source": [
        "SaveModelDir=\"EMNIST_Digits&Letters_Training\"\n",
        "checkpoint_path = SaveModelDir+\"/cp.ckpt\"\n",
        "\n",
        "model = tf.keras.models.load_model(SaveModelDir+'/Model_2_digits')\n",
        "\n",
        "# Check its architecture\n",
        "model.summary()\n",
        "\n",
        "# Loads the weights\n",
        "model.load_weights(checkpoint_path)\n",
        "\n"
      ],
      "execution_count": null,
      "outputs": [
        {
          "output_type": "stream",
          "text": [
            "Model: \"sequential\"\n",
            "_________________________________________________________________\n",
            "Layer (type)                 Output Shape              Param #   \n",
            "=================================================================\n",
            "conv2d (Conv2D)              (None, 25, 25, 16)        272       \n",
            "_________________________________________________________________\n",
            "max_pooling2d (MaxPooling2D) (None, 12, 12, 16)        0         \n",
            "_________________________________________________________________\n",
            "conv2d_1 (Conv2D)            (None, 9, 9, 32)          8224      \n",
            "_________________________________________________________________\n",
            "max_pooling2d_1 (MaxPooling2 (None, 4, 4, 32)          0         \n",
            "_________________________________________________________________\n",
            "flatten (Flatten)            (None, 512)               0         \n",
            "_________________________________________________________________\n",
            "dropout (Dropout)            (None, 512)               0         \n",
            "_________________________________________________________________\n",
            "dense (Dense)                (None, 100)               51300     \n",
            "_________________________________________________________________\n",
            "dense_1 (Dense)              (None, 37)                3737      \n",
            "=================================================================\n",
            "Total params: 63,533\n",
            "Trainable params: 63,533\n",
            "Non-trainable params: 0\n",
            "_________________________________________________________________\n"
          ],
          "name": "stdout"
        },
        {
          "output_type": "execute_result",
          "data": {
            "text/plain": [
              "<tensorflow.python.training.tracking.util.CheckpointLoadStatus at 0x7f193037ae90>"
            ]
          },
          "metadata": {
            "tags": []
          },
          "execution_count": 4
        }
      ]
    },
    {
      "cell_type": "markdown",
      "metadata": {
        "id": "M4eM4S0huqCy"
      },
      "source": [
        "## 2.3. Test model on our data (will only for the combined Letters and Digits Model)"
      ]
    },
    {
      "cell_type": "code",
      "metadata": {
        "id": "87lfEtUAusW1"
      },
      "source": [
        "import os\n",
        "import cv2\n",
        "path_images = \"./own_test_data/\""
      ],
      "execution_count": null,
      "outputs": []
    },
    {
      "cell_type": "code",
      "metadata": {
        "id": "SbyBrbGe8mss",
        "colab": {
          "base_uri": "https://localhost:8080/"
        },
        "outputId": "7f329710-82e6-4751-c5c8-6efd4c99f0ef"
      },
      "source": [
        "cv2.imread(path_images+'roi-fn-0.png').shape"
      ],
      "execution_count": null,
      "outputs": [
        {
          "output_type": "execute_result",
          "data": {
            "text/plain": [
              "(28, 28, 3)"
            ]
          },
          "metadata": {
            "tags": []
          },
          "execution_count": 6
        }
      ]
    },
    {
      "cell_type": "code",
      "metadata": {
        "id": "utY4o1OD8xS1",
        "colab": {
          "base_uri": "https://localhost:8080/"
        },
        "outputId": "8b17a117-898e-4f4d-f977-f7043451761a"
      },
      "source": [
        "np.array(plt.imread(path_images+'roi-fn-0.png')).shape"
      ],
      "execution_count": null,
      "outputs": [
        {
          "output_type": "execute_result",
          "data": {
            "text/plain": [
              "(28, 28)"
            ]
          },
          "metadata": {
            "tags": []
          },
          "execution_count": 7
        }
      ]
    },
    {
      "cell_type": "code",
      "metadata": {
        "id": "QZ734Kc5_YRC",
        "colab": {
          "base_uri": "https://localhost:8080/",
          "height": 483
        },
        "outputId": "e37a0b68-4496-4748-f927-2b3b40114ce0"
      },
      "source": [
        "img_show(np.array(plt.imread(path_images+'roi-fn-0.png')))"
      ],
      "execution_count": null,
      "outputs": [
        {
          "output_type": "display_data",
          "data": {
            "image/png": "[encoded data removed]",
            "text/plain": [
              "<Figure size 720x576 with 1 Axes>"
            ]
          },
          "metadata": {
            "tags": [],
            "needs_background": "light"
          }
        }
      ]
    },
    {
      "cell_type": "code",
      "metadata": {
        "id": "-8rUpBEZvUfL",
        "colab": {
          "base_uri": "https://localhost:8080/"
        },
        "outputId": "ece87b23-7ba5-4028-ea2a-84f336cd2090"
      },
      "source": [
        "handwritten_characters = [ ]\n",
        "\n",
        "for filename in sorted(os.listdir(path_images)):\n",
        "  img_ = np.array(plt.imread(path_images+filename))\n",
        "  #img_ = cv2.imread(path_images+filename)\n",
        "  handwritten_characters.append(img_)\n",
        "  print(filename)\n"
      ],
      "execution_count": null,
      "outputs": [
        {
          "output_type": "stream",
          "text": [
            "roi-fn-0.png\n",
            "roi-fn-1.png\n",
            "roi-fn-2.png\n",
            "roi-fn-3.png\n",
            "roi-fn-4.png\n",
            "roi-fn-5.png\n",
            "roi-fn-6.png\n",
            "roi-ln-0.png\n",
            "roi-ln-1.png\n",
            "roi-ln-2.png\n",
            "roi-ln-3.png\n",
            "roi-ln-4.png\n",
            "roi-ln-5.png\n",
            "roi-ln-6.png\n",
            "roi-sd-0.png\n",
            "roi-sd-1.png\n",
            "roi-sd-2.png\n",
            "roi-sd-3.png\n",
            "roi-sd-4.png\n",
            "roi-sd-5.png\n",
            "roi-sd-6.png\n",
            "roi-sd-7.png\n",
            "roi-sd-8.png\n",
            "roi-sd-9.png\n"
          ],
          "name": "stdout"
        }
      ]
    },
    {
      "cell_type": "code",
      "metadata": {
        "id": "ARJlRbZV95cb",
        "colab": {
          "base_uri": "https://localhost:8080/",
          "height": 483
        },
        "outputId": "640a1447-13e3-4e79-ff4a-ca584b2d6e72"
      },
      "source": [
        "handwritten_characters[2].shape\n",
        "img_show(handwritten_characters[1])"
      ],
      "execution_count": null,
      "outputs": [
        {
          "output_type": "display_data",
          "data": {
            "image/png": "[encoded data removed]",
            "text/plain": [
              "<Figure size 720x576 with 1 Axes>"
            ]
          },
          "metadata": {
            "tags": [],
            "needs_background": "light"
          }
        }
      ]
    },
    {
      "cell_type": "code",
      "metadata": {
        "id": "iXNRvl1l31rR",
        "colab": {
          "base_uri": "https://localhost:8080/",
          "height": 35
        },
        "outputId": "657b098a-855e-4d97-bf7d-057f0bd5dd8b"
      },
      "source": [
        "index=7\n",
        "labels = ['0','1','2','3','4','5','6','7','8','9','A','B','C','D','E','F','G','H','I','J','K','L','M','N','O','P','Q','R','S','T','U','V','W','X','Y','Z','~']\n",
        "# img_show(handwritten_characters[index])\n",
        "charac = handwritten_characters[index].reshape((-1,28,28,1))\n",
        "str(labels[np.argmax(model.predict(charac))])"
      ],
      "execution_count": null,
      "outputs": [
        {
          "output_type": "execute_result",
          "data": {
            "application/vnd.google.colaboratory.intrinsic+json": {
              "type": "string"
            },
            "text/plain": [
              "'R'"
            ]
          },
          "metadata": {
            "tags": []
          },
          "execution_count": 12
        }
      ]
    },
    {
      "cell_type": "code",
      "metadata": {
        "id": "pze17W1b4ObA",
        "colab": {
          "base_uri": "https://localhost:8080/"
        },
        "outputId": "0942598b-7fdf-432f-bcd8-dfe0b69d07de"
      },
      "source": [
        "len(handwritten_characters)"
      ],
      "execution_count": null,
      "outputs": [
        {
          "output_type": "execute_result",
          "data": {
            "text/plain": [
              "24"
            ]
          },
          "metadata": {
            "tags": []
          },
          "execution_count": 13
        }
      ]
    },
    {
      "cell_type": "code",
      "metadata": {
        "id": "_gES6ozBAbIe",
        "colab": {
          "base_uri": "https://localhost:8080/"
        },
        "outputId": "6dc9a886-b7d2-430d-c9a0-3e80ce14942b"
      },
      "source": [
        "digits_labels = ['0','1','2','3','4','5','6','7','8','9','~']\n",
        "letters_labels = ['A','B','C','D','E','F','G','H','I','J','K','L','M','N','O','P','Q','R','S','T','U','V','W','X','Y','Z','~']\n",
        "\n",
        "all_labels = digits_labels[:-1] + letters_labels[:]\n",
        "print(all_labels)"
      ],
      "execution_count": null,
      "outputs": [
        {
          "output_type": "stream",
          "text": [
            "['0', '1', '2', '3', '4', '5', '6', '7', '8', '9', 'A', 'B', 'C', 'D', 'E', 'F', 'G', 'H', 'I', 'J', 'K', 'L', 'M', 'N', 'O', 'P', 'Q', 'R', 'S', 'T', 'U', 'V', 'W', 'X', 'Y', 'Z', '~']\n"
          ],
          "name": "stdout"
        }
      ]
    },
    {
      "cell_type": "code",
      "metadata": {
        "id": "w2LvWKGhBQn6",
        "colab": {
          "base_uri": "https://localhost:8080/",
          "height": 331
        },
        "outputId": "4ceccd9c-32c9-4aea-9e3d-31f1e407ed2e"
      },
      "source": [
        "# Re-evaluate the model\n",
        "# loss, acc = model.evaluate(x_test, y_test, verbose=2)\n",
        "# print(\"Restored model, accuracy: {:5.2f}%\".format(100 * acc))\n",
        "\n",
        "\n",
        "f = plt.figure(figsize=(12,8))\n",
        "\n",
        "for i in range(len(handwritten_characters)):\n",
        "    sp = f.add_subplot(4, 10, i+1)\n",
        "    sp.axis('Off')\n",
        "    charac = handwritten_characters[i].reshape((-1,28,28,1))\n",
        "    pred_vect = model.predict(charac)\n",
        "    predict_index= np.argmax(pred_vect[:,:])\n",
        "    #print(predict_index)\n",
        "    sp.set_title(\"Pred: \"+ str(all_labels[predict_index]))\n",
        "    #if i <15: # first 15 characters are lettersac\n",
        "    #  sp.set_title(\"Pred: \"+ str(letters_labels[np.argmax(pred_vect[:,10:])]))\n",
        "    #else:\n",
        "    #  sp.set_title(\"Pred: \"+ str(digits_labels[np.argmax(pred_vect[:,:11])]))\n",
        "    img = handwritten_characters[i]\n",
        "    plt.imshow(img, cmap='gray')\n",
        "  \n"
      ],
      "execution_count": null,
      "outputs": [
        {
          "output_type": "display_data",
          "data": {
            "image/png": "[encoded data removed]",
            "text/plain": [
              "<Figure size 864x576 with 24 Axes>"
            ]
          },
          "metadata": {
            "tags": [],
            "needs_background": "light"
          }
        }
      ]
    }
  ]
}